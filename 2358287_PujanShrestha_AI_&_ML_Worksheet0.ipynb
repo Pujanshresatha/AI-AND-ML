{
  "nbformat": 4,
  "nbformat_minor": 0,
  "metadata": {
    "colab": {
      "provenance": []
    },
    "kernelspec": {
      "name": "python3",
      "display_name": "Python 3"
    },
    "language_info": {
      "name": "python"
    }
  },
  "cells": [
    {
      "cell_type": "markdown",
      "source": [
        "# Task - 1:\n",
        "## Create a Python program that converts between different units of measurement.\n",
        "\n",
        "### The program should:\n",
        "1. Prompt the user to choose the type of conversion (e.g., length, weight, volume).\n",
        "2. Ask the user to input the value to be converted.\n",
        "3. Perform the conversion and display the result.\n",
        "4. Handle potential errors, such as invalid input or unsupported conversion types.\n",
        "\n",
        "### Requirements:\n",
        "1. Functions: Define at least one function to perform the conversion.\n",
        "2. Error Handling: Use try-except blocks to handle invalid input (e.g., non-numeric values).\n",
        "3. User Input: Prompt the user to select the conversion type and input the value.\n",
        "4. Docstrings: Include a docstring in your function to describe its purpose, parameters, and return value.\n",
        "\n",
        "### Conversion Options:\n",
        "1. Length:\n",
        "\n",
        "Convert meters (m) to feet (ft).\n",
        "Convert feet (ft) to meters (m).\n",
        "\n",
        "2. Weight:\n",
        "\n",
        "Convert kilograms (kg) to pounds (lbs).\n",
        "Convert pounds (lbs) to kilograms (kg).\n",
        "\n",
        "3. Volume:\n",
        "\n",
        "Convert liters (L) to gallons (gal).\n",
        "Convert gallons (gal) to liters (L)."
      ],
      "metadata": {
        "id": "n1R_pZ2P8aZP"
      }
    },
    {
      "cell_type": "code",
      "source": [
        "def unit_converter():\n",
        "    \"\"\"Converts between units (length/weight/volume) with error handling.\"\"\"\n",
        "    try:\n",
        "        category = input(\"Choose category (length/weight/volume): \").lower()\n",
        "        if category not in [\"length\", \"weight\", \"volume\"]:\n",
        "            raise ValueError(\"Invalid category\")\n",
        "\n",
        "        value = float(input(\"Enter value: \"))\n",
        "        direction = input(\"Choose conversion:\\n1. m→ft\\n2. ft→m\\n3. kg→lbs\\n4. lbs→kg\\n5. L→gal\\n6. gal→L\\n> \")\n",
        "\n",
        "        conversions = {\n",
        "            \"1\": (value * 3.28084, f\"{value}m = {value*3.28084:.2f}ft\"),\n",
        "            \"2\": (value / 3.28084, f\"{value}ft = {value/3.28084:.2f}m\"),\n",
        "            \"3\": (value * 2.20462, f\"{value}kg = {value*2.20462:.2f}lbs\"),\n",
        "            \"4\": (value / 2.20462, f\"{value}lbs = {value/2.20462:.2f}kg\"),\n",
        "            \"5\": (value * 0.264172, f\"{value}L = {value*0.264172:.2f}gal\"),\n",
        "            \"6\": (value / 0.264172, f\"{value}gal = {value/0.264172:.2f}L\")\n",
        "        }\n",
        "\n",
        "        return conversions[direction][1]\n",
        "\n",
        "    except ValueError:\n",
        "        return \"Invalid input. Enter numbers only.\"\n",
        "    except KeyError:\n",
        "        return \"Invalid conversion choice.\"\n",
        "\n",
        "# Test\n",
        "unit_converter()"
      ],
      "metadata": {
        "colab": {
          "base_uri": "https://localhost:8080/",
          "height": 210
        },
        "id": "Mlwk1BUZ9nY4",
        "outputId": "d3b2500a-b6a8-4954-979b-dfec74aa669d"
      },
      "execution_count": 1,
      "outputs": [
        {
          "name": "stdout",
          "output_type": "stream",
          "text": [
            "Choose category (length/weight/volume): length\n",
            "Enter value: 32\n",
            "Choose conversion:\n",
            "1. m→ft\n",
            "2. ft→m\n",
            "3. kg→lbs\n",
            "4. lbs→kg\n",
            "5. L→gal\n",
            "6. gal→L\n",
            "> 1\n"
          ]
        },
        {
          "output_type": "execute_result",
          "data": {
            "text/plain": [
              "'32.0m = 104.99ft'"
            ],
            "application/vnd.google.colaboratory.intrinsic+json": {
              "type": "string"
            }
          },
          "metadata": {},
          "execution_count": 1
        }
      ]
    },
    {
      "cell_type": "markdown",
      "source": [
        "# Task - 2:\n",
        "## Create a Python program that performs various mathematical operations on a list of numbers.\n",
        "\n",
        "### The Program should:\n",
        "\n",
        "1. Prompt the user to choose an operation (e.g., find the sum, average, maximum, or minimum\n",
        "of the numbers).\n",
        "2. Ask the user to input a list of numbers (separated by spaces).\n",
        "3. Perform the selected operation and display the result.\n",
        "4. Handle potential errors, such as invalid input or empty lists.\n",
        "\n",
        "### Requirements:\n",
        "\n",
        "1. Functions: Define at least one function for each operation (sum, average, maximum, mini-\n",
        "mum).\n",
        "2. Error Handling: Use try-except blocks to handle invalid input (e.g., non-numeric values or\n",
        "empty lists).\n",
        "3. User Input: Prompt the user to select the operation and input the list of numbers.\n",
        "4. Docstrings: Include a docstring in each function to describe its purpose, parameters, and\n",
        "return value."
      ],
      "metadata": {
        "id": "js1-Emn093Gk"
      }
    },
    {
      "cell_type": "code",
      "source": [
        "def math_operations():\n",
        "    \"\"\"Performs sum/avg/max/min on a list of numbers.\"\"\"\n",
        "    def _sum(nums): return sum(nums)\n",
        "    def _avg(nums): return sum(nums)/len(nums)\n",
        "    def _max(nums): return max(nums)\n",
        "    def _min(nums): return min(nums)\n",
        "\n",
        "    try:\n",
        "        op = input(\"Choose operation (sum/avg/max/min): \").lower()\n",
        "        nums = list(map(float, input(\"Enter numbers (space-separated): \").split()))\n",
        "        if not nums: raise ValueError(\"Empty list\")\n",
        "\n",
        "        return {\n",
        "            \"sum\": _sum(nums),\n",
        "            \"avg\": _avg(nums),\n",
        "            \"max\": _max(nums),\n",
        "            \"min\": _min(nums)\n",
        "        }[op]\n",
        "\n",
        "    except ValueError: return \"Invalid input\"\n",
        "    except KeyError: return \"Invalid operation\"\n",
        "\n",
        "math_operations()"
      ],
      "metadata": {
        "colab": {
          "base_uri": "https://localhost:8080/"
        },
        "id": "HR2ggUYL-U_C",
        "outputId": "8fd70230-572b-4181-8768-95c7ba1200ca"
      },
      "execution_count": 2,
      "outputs": [
        {
          "name": "stdout",
          "output_type": "stream",
          "text": [
            "Choose operation (sum/avg/max/min): sum\n",
            "Enter numbers (space-separated): 24 22\n"
          ]
        },
        {
          "output_type": "execute_result",
          "data": {
            "text/plain": [
              "46.0"
            ]
          },
          "metadata": {},
          "execution_count": 2
        }
      ]
    },
    {
      "cell_type": "markdown",
      "source": [
        "# Exercise on List Manipulation:\n",
        "\n",
        "## 1. Extract Every Other Element:\n",
        "\n",
        "## Write a Python function that extracts every other element from a list, starting from the first element.\n",
        "\n",
        "### Requirements:\n",
        "\n",
        "Define a function extract every other(lst) that takes a list lst as input and returns a new list containing every other element from the original list.\n",
        "Example: For the input [1, 2, 3, 4, 5, 6], the output should be [1, 3, 5].\n",
        "\n",
        "## 2. Slice a Sublist:\n",
        "\n",
        "## Write a Python function that returns a sublist from a given list, starting from a specified index and ending at another specified index.\n",
        "\n",
        "### Requirements:\n",
        "\n",
        "Define a function get sublist(lst, start, end) that takes a list lst, a starting index start, and an ending index end as input and returns the sublist from start to end (inclusive).\n",
        "Example: For the input [1, 2, 3, 4, 5, 6] with start=2 and end=4, the output should be [3, 4, 5].\n",
        "\n",
        "## 3. Reverse a List Using Slicing:\n",
        "\n",
        "## Write a Python function that reverses a list using slicing.\n",
        "\n",
        "### Requirements:\n",
        "\n",
        "Define a function reverse list(lst) that takes a list lst and returns a reversed list using slicing.\n",
        "Example: For the input [1, 2, 3, 4, 5], the output should be [5, 4, 3, 2, 1].\n",
        "\n",
        "## 4. Remove the First and Last Elements:\n",
        "\n",
        "## Write a Python function that removes the first and last elements of a list and returns the resulting sublist.\n",
        "\n",
        "### Requirements:\n",
        "\n",
        "Define a function remove first last(lst) that takes a list lst and returns a sublist without the first and last elements using slicing.\n",
        "Example: For the input [1, 2, 3, 4, 5], the output should be [2, 3, 4].\n",
        "\n",
        "## 5. Get the First n Elements:\n",
        "\n",
        "## Write a Python function that extracts the first n elements from a list.\n",
        "\n",
        "### Requirements:\n",
        "\n",
        "Define a function get first n(lst, n) that takes a list lst and an integer n as input and returns the first n elements of the list using slicing.\n",
        "Example: For the input [1, 2, 3, 4, 5] with n=3, the output should be [1, 2, 3].\n",
        "\n",
        "## 6. Extract Elements from the End:\n",
        "\n",
        "## Write a Python function that extracts the last n elements of a list using slicing.\n",
        "\n",
        "### Requirements:\n",
        "\n",
        "Define a function get last n(lst, n) that takes a list lst and an integer n as input and returns the last n elements of the list.\n",
        "Example: For the input [1, 2, 3, 4, 5] with n=2, the output should be [4, 5].\n",
        "\n",
        "## 7. Extract Elements in Reverse Order:\n",
        "\n",
        "## Write a Python function that extracts a list of elements in reverse order starting from the second-to-last element and skipping one element in between.\n",
        "\n",
        "### Requirements:\n",
        "\n",
        "Define a function reverse skip(lst) that takes a list lst and returns a new list containing every second element starting from the second-to-last, moving backward.\n",
        "Example: For the input [1, 2, 3, 4, 5, 6], the output should be [5, 3, 1]."
      ],
      "metadata": {
        "id": "AP6aDhb__G50"
      }
    },
    {
      "cell_type": "code",
      "source": [
        "# 1. Extract Every Other Element\n",
        "def extract_every_other(lst): return lst[::2]\n",
        "\n",
        "# 2. Get Sublist\n",
        "def get_sublist(lst, start, end): return lst[start:end+1]\n",
        "\n",
        "# 3. Reverse List\n",
        "def reverse_list(lst): return lst[::-1]\n",
        "\n",
        "# 4. Remove First/Last\n",
        "def remove_first_last(lst): return lst[1:-1] if len(lst) > 2 else []\n",
        "\n",
        "# 5. First N Elements\n",
        "def get_first_n(lst, n): return lst[:n]\n",
        "\n",
        "# 6. Last N Elements\n",
        "def get_last_n(lst, n): return lst[-n:]\n",
        "\n",
        "# 7. Reverse Skip\n",
        "def reverse_skip(lst): return lst[-2::-2]\n"
      ],
      "metadata": {
        "id": "cIDQuN2UBfyf"
      },
      "execution_count": 3,
      "outputs": []
    },
    {
      "cell_type": "markdown",
      "source": [
        "# Exercise on Nested List:\n",
        "\n",
        "## 1. Flatten a Nested List:\n",
        "## Write a Python function that takes a nested list and flattens it into a single list, where all the elements are in a single dimension.\n",
        "\n",
        "### Requirements:\n",
        "Define a function flatten(lst) that takes a nested list lst and returns a flattened version of the list.\n",
        "Example: For the input [[1, 2], [3, 4], [5]], the output should be [1, 2, 3, 4, 5].\n",
        "\n",
        "## 2. Accessing Nested List Elements:\n",
        "## Write a Python function that extracts a specific element from a nested list given its indices.\n",
        "\n",
        "### Requirements:\n",
        "Define a function access nested element(lst, indices) that takes a nested list lst and a list of indices indices, and returns the element at that position.\n",
        "Example: For the input lst = [[1, 2, 3], [4, 5, 6], [7, 8, 9]] with indices = [1,2], the output should be 6.\n",
        "\n",
        "## 3. Sum of All Elements in a Nested List:\n",
        "## Write a Python function that calculates the sum of all the numbers in a nested list (regardless of depth).\n",
        "\n",
        "### Requirements:\n",
        "Define a function sum nested(lst) that takes a nested list lst and returns the sum of all the elements.\n",
        "Example: For the input [[1, 2], [3, [4, 5]], 6], the output should be 21.\n",
        "\n",
        "## 4. Remove Specific Element from a Nested List:\n",
        "## Write a Python function that removes all occurrences of a specific element from a nested list.\n",
        "\n",
        "### Requirements:\n",
        "Define a function remove element(lst, elem) that removes elem from lst and returns the modified list.\n",
        "Example: For the input lst = [[1, 2], [3, 2], [4, 5]] and elem = 2, the output should be [[1], [3], [4, 5]].\n",
        "\n",
        "## 5. Find the Maximum Element in a Nested List:\n",
        "## Write a Python function that finds the maximum element in a nested list (regardless of depth).\n",
        "\n",
        "### • Requirements:\n",
        "Define a function find max(lst) that takes a nested list lst and returns the maximum element.\n",
        "Example: For the input [[1, 2], [3, [4, 5]], 6], the output should be 6.\n",
        "\n",
        "## 6. Count Occurrences of an Element in a Nested List:\n",
        "## Write a Python function that counts how many times a specific element appears in a nested list.\n",
        "\n",
        "### Requirements:\n",
        "Define a function count occurrences(lst, elem) that counts the occurrences of elem in the nested list lst.\n",
        "Example: For the input lst = [[1, 2], [2, 3], [2, 4]] and elem = 2, the output should be 3.\n",
        "\n",
        "## 7. Flatten a List of Lists of Lists:\n",
        "## Write a Python function that flattens a list of lists of lists into a single list, regardless of the depth.\n",
        "\n",
        "### Requirements:\n",
        "Define a function deep flatten(lst) that takes a deeply nested list lst and returns a single flattened list.\n",
        "Example: For the input [[[1, 2], [3, 4]], [[5, 6], [7, 8]]], the output should be [1, 2, 3, 4, 5, 6, 7, 8].\n",
        "\n",
        "## 8. Nested List Average:\n",
        "## Write a Python function that calculates the average of all elements in a nested list.\n",
        "\n",
        "### Requirements:\n",
        "Define a function average nested(lst) that takes a nested list lst and returns the average of all the elements.\n",
        "Example: For the input [[1, 2], [3, 4], [5, 6]], the output should be 3.5."
      ],
      "metadata": {
        "id": "TEW0eNEyB2Oq"
      }
    },
    {
      "cell_type": "code",
      "source": [
        "# 1. Flatten Nested List\n",
        "def flatten(lst):\n",
        "    return [item for sublist in lst for item in (flatten(sublist) if isinstance(sublist, list) else [sublist])]\n",
        "\n",
        "# 2. Access Nested Element\n",
        "def access_nested_element(lst, indices):\n",
        "    for i in indices: lst = lst[i]\n",
        "    return lst\n",
        "\n",
        "# 3. Sum Nested List\n",
        "def sum_nested(lst):\n",
        "    return sum(sum_nested(item) if isinstance(item, list) else item for item in lst)\n",
        "\n",
        "# 4. Remove Element\n",
        "def remove_element(lst, elem):\n",
        "    return [remove_element(i, elem) if isinstance(i, list) else i for i in lst if i != elem]\n",
        "\n",
        "# 5. Find Max\n",
        "def find_max(lst):\n",
        "    return max(find_max(i) if isinstance(i, list) else i for i in lst)\n",
        "\n",
        "# 6. Count Occurrences\n",
        "def count_occurrences(lst, elem):\n",
        "    return sum(count_occurrences(i, elem) if isinstance(i, list) else 1 for i in lst if i == elem)\n",
        "\n",
        "# 7. Deep Flatten\n",
        "def deep_flatten(lst):\n",
        "    return [item for sublist in lst for item in (deep_flatten(sublist) if isinstance(sublist, list) else [sublist])]\n",
        "\n",
        "# 8. Nested Average\n",
        "def average_nested(lst):\n",
        "    flat = deep_flatten(lst)\n",
        "    return sum(flat)/len(flat) if flat else 0"
      ],
      "metadata": {
        "id": "-5gSxTPWDwbw"
      },
      "execution_count": 4,
      "outputs": []
    },
    {
      "cell_type": "markdown",
      "source": [
        "# Basic Vector and Matrix Operation with Numpy.\n",
        "## Problem - 1: Array Creation:\n",
        "### Complete the following Tasks:\n",
        "1. Initialize an empty array with size 2X2.\n",
        "2. Initialize an all one array with size 4X2.\n",
        "3. Return a new array of given shape and type, filled with fill value.{Hint: np.full}\n",
        "4. Return a new array of zeros with same shape and type as a given array.{Hint: np.zeros like}\n",
        "5. Return a new array of ones with same shape and type as a given array.{Hint: np.ones like}\n",
        "6. For an existing list new_list = [1,2,3,4] convert to an numpy array.{Hint: np.array()}\n",
        "\n",
        "## Problem - 2: Array Manipulation: Numerical Ranges and Array indexing:\n",
        "### Complete the following tasks:\n",
        "1. Create an array with values ranging from 10 to 49. {Hint:np.arrange()}.\n",
        "2. Create a 3X3 matrix with values ranging from 0 to 8.\n",
        "{Hint:look for np.reshape()}\n",
        "3. Create a 3X3 identity matrix.{Hint:np.eye()}\n",
        "4. Create a random array of size 30 and find the mean of the array.\n",
        "{Hint:check for np.random.random() and array.mean() function}\n",
        "5. Create a 10X10 array with random values and find the minimum and maximum values.\n",
        "6. Create a zero array of size 10 and replace 5th element with 1.\n",
        "7. Reverse an array arr = [1,2,0,0,4,0].\n",
        "8. Create a 2d array with 1 on border and 0 inside.\n",
        "9. Create a 8X8 matrix and fill it with a checkerboard pattern.\n",
        "\n",
        "## Problem - 3: Array Operations:\n",
        "### For the following arrays:\n",
        "### x = np.array([[1,2],[3,5]]) and y = np.array([[5,6],[7,8]]);\n",
        "### v = np.array([9,10]) and w = np.array([11,12]);\n",
        "### Complete all the task using numpy:\n",
        "1. Add the two array.\n",
        "2. Subtract the two array.\n",
        "3. Multiply the array with any integers of your choice.\n",
        "4. Find the square of each element of the array.\n",
        "5. Find the dot product between: v(and)w ; x(and)v ; x(and)y.\n",
        "6. Concatenate x(and)y along row and Concatenate v(and)w along column.\n",
        "{Hint:try np.concatenate() or np.vstack() functions.\n",
        "7. Concatenate x(and)v; if you get an error, observe and explain why did you get the error?\n",
        "\n",
        "## Problem - 4: Matrix Operations:\n",
        "### • For the following arrays:\n",
        "### A = np.array([[3,4],[7,8]]) and B = np.array([[5,3],[2,1]]);\n",
        "### Prove following with Numpy:\n",
        "1. Prove A.A−1 = I.\n",
        "2. Prove AB ̸= BA.\n",
        "3. Prove (AB)T = BTAT\n",
        "\n",
        "### Solve the following system of Linear equation using Inverse Methods.\n",
        "\n",
        "### 2x − 3y + z = −1\n",
        "### x − y + 2z = −3\n",
        "### 3x + y − z = 9\n",
        "\n",
        "### {Hint: First use Numpy array to represent the equation in Matrix form. Then Solve for: AX = B}\n",
        "\n",
        "### • Now: solve the above equation using np.linalg.inv function.{Explore more about ”linalg” func-tion of Numpy}"
      ],
      "metadata": {
        "id": "zmKdtNUKELVB"
      }
    },
    {
      "cell_type": "code",
      "source": [
        "import numpy as np\n",
        "\n",
        "# Problem 1: Array Creation\n",
        "empty = np.empty((2,2))\n",
        "ones = np.ones((4,2))\n",
        "full = np.full((3,3), 5)\n",
        "zeros_like = np.zeros_like(full)\n",
        "ones_like = np.ones_like(full)\n",
        "np_array = np.array([1,2,3,4])\n",
        "\n",
        "# Problem 2: Array Manipulation\n",
        "arr_10_49 = np.arange(10,50)\n",
        "matrix_3x3 = np.arange(9).reshape(3,3)\n",
        "identity = np.eye(3)\n",
        "mean_rand = np.random.random(30).mean()\n",
        "min_max = (np.random.rand(10,10).min(), np.random.rand(10,10).max())\n",
        "zero_arr = np.zeros(10); zero_arr[4] = 1\n",
        "reversed_arr = np.array([1,2,0,0,4,0])[::-1]\n",
        "border = np.ones((5,5)); border[1:-1,1:-1] = 0\n",
        "checker = np.zeros((8,8)); checker[::2,::2] = 1; checker[1::2,1::2] = 1\n",
        "\n",
        "# Problem 3: Array Operations\n",
        "x = np.array([[1,2],[3,5]]); y = np.array([[5,6],[7,8]])\n",
        "v = np.array([9,10]); w = np.array([11,12])\n",
        "\n",
        "add = x + y\n",
        "subtract = x - y\n",
        "multiply = x * 3\n",
        "square = x**2\n",
        "dot_vw = np.dot(v,w)\n",
        "dot_xv = np.dot(x,v)\n",
        "dot_xy = np.dot(x,y)\n",
        "concat_row = np.vstack((x,y))\n",
        "concat_col = np.column_stack((v,w))\n",
        "\n",
        "# Problem 4: Matrix Operations\n",
        "A = np.array([[3,4],[7,8]]); B = np.array([[5,3],[2,1]])\n",
        "AA_inv = np.dot(A, np.linalg.inv(A))  # Should be ≈ identity matrix\n",
        "AB_BA = np.dot(A,B) != np.dot(B,A)\n",
        "AB_T = np.dot(A,B).T == np.dot(B.T, A.T)\n",
        "\n",
        "# Solve Linear System\n",
        "coefficients = np.array([[2,-3,1],[1,-1,2],[3,1,-1]])\n",
        "constants = np.array([-1,-3,9])\n",
        "solution = np.linalg.inv(coefficients).dot(constants)"
      ],
      "metadata": {
        "id": "dA_mII0OFby5"
      },
      "execution_count": 5,
      "outputs": []
    },
    {
      "cell_type": "markdown",
      "source": [
        "# Experiment: How Fast is Numpy?\n",
        "## In this exercise, you will compare the performance and implementation of operations using plain Python\n",
        "## lists (arrays) and NumPy arrays. Follow the instructions:\n",
        "### 1. Element-wise Addition:\n",
        "Using Python Lists, perform element-wise addition of two lists of size 1, 000, 000. Measure and Print the time taken for this operation.\n",
        "Using Numpy Arrays, Repeat the calculation and measure and print the time taken for this operation.\n",
        "\n",
        "### 2. Element-wise Multiplication\n",
        "Using Python Lists, perform element-wise multiplication of two lists of size 1, 000, 000.\n",
        "Measure and Print the time taken for this operation.\n",
        "Using Numpy Arrays, Repeat the calculation and measure and print the time taken for this operation.\n",
        "\n",
        "### 3. Dot Product\n",
        "Using Python Lists, compute the dot product of two lists of size 1, 000, 000. Measure and Print the time taken for this operation.\n",
        "Using Numpy Arrays, Repeat the calculation and measure and print the time taken for this operation.\n",
        "\n",
        "### 4. Matrix Multiplication\n",
        "Using Python lists, perform matrix multiplication of two matrices of size 1000x1000. Mea-sure and print the time taken for this operation.\n",
        "Using NumPy arrays, perform matrix multiplication of two matrices of size 1000x1000.\n",
        "Measure and print the time taken for this operation."
      ],
      "metadata": {
        "id": "mhW8fxYjFqEv"
      }
    },
    {
      "cell_type": "code",
      "source": [
        "import time\n",
        "\n",
        "# Element-wise Addition\n",
        "size = 10**6\n",
        "a_list = [1]*size; b_list = [2]*size\n",
        "start = time.time()\n",
        "_ = [a+b for a,b in zip(a_list,b_list)]\n",
        "print(f\"Python: {time.time()-start:.5f}s\")\n",
        "\n",
        "a_np = np.ones(size); b_np = np.ones(size)\n",
        "start = time.time()\n",
        "_ = a_np + b_np\n",
        "print(f\"NumPy: {time.time()-start:.5f}s\")"
      ],
      "metadata": {
        "colab": {
          "base_uri": "https://localhost:8080/"
        },
        "id": "XvYEkQpCGWoX",
        "outputId": "5d467506-2b10-44f8-f02b-c7743c40e063"
      },
      "execution_count": 7,
      "outputs": [
        {
          "output_type": "stream",
          "name": "stdout",
          "text": [
            "Python: 0.05079s\n",
            "NumPy: 0.00941s\n"
          ]
        }
      ]
    }
  ]
}